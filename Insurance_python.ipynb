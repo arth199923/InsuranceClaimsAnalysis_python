{
 "cells": [
  {
   "cell_type": "code",
   "execution_count": 389,
   "id": "cd842ee0",
   "metadata": {},
   "outputs": [],
   "source": [
    "import pandas as pd\n",
    "import numpy as np\n",
    "import matplotlib.pyplot as plt\n",
    "import seaborn as sns\n",
    "import scipy.stats as stats"
   ]
  },
  {
   "cell_type": "markdown",
   "id": "dbd0e1fd",
   "metadata": {},
   "source": [
    "### 1 Import claims_data.csv and cust_data.csv which is provided to you and combine the two datasets appropriately"
   ]
  },
  {
   "cell_type": "code",
   "execution_count": 391,
   "id": "65628862",
   "metadata": {},
   "outputs": [
    {
     "data": {
      "text/html": [
       "<div>\n",
       "<style scoped>\n",
       "    .dataframe tbody tr th:only-of-type {\n",
       "        vertical-align: middle;\n",
       "    }\n",
       "\n",
       "    .dataframe tbody tr th {\n",
       "        vertical-align: top;\n",
       "    }\n",
       "\n",
       "    .dataframe thead th {\n",
       "        text-align: right;\n",
       "    }\n",
       "</style>\n",
       "<table border=\"1\" class=\"dataframe\">\n",
       "  <thead>\n",
       "    <tr style=\"text-align: right;\">\n",
       "      <th></th>\n",
       "      <th>claim_id</th>\n",
       "      <th>customer_id</th>\n",
       "      <th>incident_cause</th>\n",
       "      <th>claim_date</th>\n",
       "      <th>claim_area</th>\n",
       "      <th>police_report</th>\n",
       "      <th>claim_type</th>\n",
       "      <th>claim_amount</th>\n",
       "      <th>total_policy_claims</th>\n",
       "      <th>fraudulent</th>\n",
       "      <th>CUST_ID</th>\n",
       "      <th>gender</th>\n",
       "      <th>DateOfBirth</th>\n",
       "      <th>State</th>\n",
       "      <th>Contact</th>\n",
       "      <th>Segment</th>\n",
       "    </tr>\n",
       "  </thead>\n",
       "  <tbody>\n",
       "    <tr>\n",
       "      <th>0</th>\n",
       "      <td>54004764</td>\n",
       "      <td>21868593</td>\n",
       "      <td>Driver error</td>\n",
       "      <td>11/27/2017</td>\n",
       "      <td>Auto</td>\n",
       "      <td>No</td>\n",
       "      <td>Material only</td>\n",
       "      <td>$2980</td>\n",
       "      <td>1.0</td>\n",
       "      <td>No</td>\n",
       "      <td>21868593</td>\n",
       "      <td>Female</td>\n",
       "      <td>12-Jan-79</td>\n",
       "      <td>VT</td>\n",
       "      <td>789-916-8172</td>\n",
       "      <td>Platinum</td>\n",
       "    </tr>\n",
       "    <tr>\n",
       "      <th>1</th>\n",
       "      <td>33985796</td>\n",
       "      <td>75740424</td>\n",
       "      <td>Crime</td>\n",
       "      <td>10/03/2018</td>\n",
       "      <td>Home</td>\n",
       "      <td>Unknown</td>\n",
       "      <td>Material only</td>\n",
       "      <td>$2980</td>\n",
       "      <td>3.0</td>\n",
       "      <td>No</td>\n",
       "      <td>75740424</td>\n",
       "      <td>Female</td>\n",
       "      <td>13-Jan-70</td>\n",
       "      <td>ME</td>\n",
       "      <td>265-543-1264</td>\n",
       "      <td>Silver</td>\n",
       "    </tr>\n",
       "    <tr>\n",
       "      <th>2</th>\n",
       "      <td>53522022</td>\n",
       "      <td>30308357</td>\n",
       "      <td>Other driver error</td>\n",
       "      <td>02/02/2018</td>\n",
       "      <td>Auto</td>\n",
       "      <td>No</td>\n",
       "      <td>Material only</td>\n",
       "      <td>$3369.5</td>\n",
       "      <td>1.0</td>\n",
       "      <td>Yes</td>\n",
       "      <td>30308357</td>\n",
       "      <td>Female</td>\n",
       "      <td>11-Mar-84</td>\n",
       "      <td>TN</td>\n",
       "      <td>798-631-4758</td>\n",
       "      <td>Silver</td>\n",
       "    </tr>\n",
       "    <tr>\n",
       "      <th>3</th>\n",
       "      <td>63017412</td>\n",
       "      <td>30308357</td>\n",
       "      <td>Driver error</td>\n",
       "      <td>04/04/2018</td>\n",
       "      <td>Auto</td>\n",
       "      <td>No</td>\n",
       "      <td>Material only</td>\n",
       "      <td>$1950</td>\n",
       "      <td>6.0</td>\n",
       "      <td>No</td>\n",
       "      <td>30308357</td>\n",
       "      <td>Female</td>\n",
       "      <td>11-Mar-84</td>\n",
       "      <td>TN</td>\n",
       "      <td>798-631-4758</td>\n",
       "      <td>Silver</td>\n",
       "    </tr>\n",
       "    <tr>\n",
       "      <th>4</th>\n",
       "      <td>13015401</td>\n",
       "      <td>47830476</td>\n",
       "      <td>Natural causes</td>\n",
       "      <td>06/17/2018</td>\n",
       "      <td>Auto</td>\n",
       "      <td>No</td>\n",
       "      <td>Material only</td>\n",
       "      <td>$1680</td>\n",
       "      <td>1.0</td>\n",
       "      <td>No</td>\n",
       "      <td>47830476</td>\n",
       "      <td>Female</td>\n",
       "      <td>01-May-86</td>\n",
       "      <td>MA</td>\n",
       "      <td>413-187-7945</td>\n",
       "      <td>Silver</td>\n",
       "    </tr>\n",
       "    <tr>\n",
       "      <th>...</th>\n",
       "      <td>...</td>\n",
       "      <td>...</td>\n",
       "      <td>...</td>\n",
       "      <td>...</td>\n",
       "      <td>...</td>\n",
       "      <td>...</td>\n",
       "      <td>...</td>\n",
       "      <td>...</td>\n",
       "      <td>...</td>\n",
       "      <td>...</td>\n",
       "      <td>...</td>\n",
       "      <td>...</td>\n",
       "      <td>...</td>\n",
       "      <td>...</td>\n",
       "      <td>...</td>\n",
       "      <td>...</td>\n",
       "    </tr>\n",
       "    <tr>\n",
       "      <th>1080</th>\n",
       "      <td>62020796</td>\n",
       "      <td>79539873</td>\n",
       "      <td>Other driver error</td>\n",
       "      <td>09/06/2018</td>\n",
       "      <td>Auto</td>\n",
       "      <td>Yes</td>\n",
       "      <td>Material only</td>\n",
       "      <td>$1770</td>\n",
       "      <td>1.0</td>\n",
       "      <td>No</td>\n",
       "      <td>79539873</td>\n",
       "      <td>Female</td>\n",
       "      <td>15-Mar-81</td>\n",
       "      <td>ND</td>\n",
       "      <td>459-425-4319</td>\n",
       "      <td>Platinum</td>\n",
       "    </tr>\n",
       "    <tr>\n",
       "      <th>1081</th>\n",
       "      <td>63269067</td>\n",
       "      <td>42364152</td>\n",
       "      <td>Other causes</td>\n",
       "      <td>05/09/2017</td>\n",
       "      <td>Home</td>\n",
       "      <td>No</td>\n",
       "      <td>Material only</td>\n",
       "      <td>$2800</td>\n",
       "      <td>1.0</td>\n",
       "      <td>No</td>\n",
       "      <td>42364152</td>\n",
       "      <td>Female</td>\n",
       "      <td>07-Jul-96</td>\n",
       "      <td>ID</td>\n",
       "      <td>529-462-1635</td>\n",
       "      <td>Silver</td>\n",
       "    </tr>\n",
       "    <tr>\n",
       "      <th>1082</th>\n",
       "      <td>22690595</td>\n",
       "      <td>19888166</td>\n",
       "      <td>Other driver error</td>\n",
       "      <td>05/15/2017</td>\n",
       "      <td>Auto</td>\n",
       "      <td>Yes</td>\n",
       "      <td>Injury only</td>\n",
       "      <td>$33080</td>\n",
       "      <td>2.0</td>\n",
       "      <td>No</td>\n",
       "      <td>19888166</td>\n",
       "      <td>Male</td>\n",
       "      <td>11-Apr-90</td>\n",
       "      <td>WI</td>\n",
       "      <td>712-651-9613</td>\n",
       "      <td>Gold</td>\n",
       "    </tr>\n",
       "    <tr>\n",
       "      <th>1083</th>\n",
       "      <td>12376894</td>\n",
       "      <td>11256802</td>\n",
       "      <td>Other driver error</td>\n",
       "      <td>04/18/2017</td>\n",
       "      <td>Auto</td>\n",
       "      <td>No</td>\n",
       "      <td>Material only</td>\n",
       "      <td>$2840</td>\n",
       "      <td>4.0</td>\n",
       "      <td>No</td>\n",
       "      <td>11256802</td>\n",
       "      <td>Female</td>\n",
       "      <td>22-Oct-64</td>\n",
       "      <td>LA</td>\n",
       "      <td>469-345-5617</td>\n",
       "      <td>Silver</td>\n",
       "    </tr>\n",
       "    <tr>\n",
       "      <th>1084</th>\n",
       "      <td>63226031</td>\n",
       "      <td>61575264</td>\n",
       "      <td>Natural causes</td>\n",
       "      <td>03/16/2017</td>\n",
       "      <td>Auto</td>\n",
       "      <td>No</td>\n",
       "      <td>Material only</td>\n",
       "      <td>$1490</td>\n",
       "      <td>1.0</td>\n",
       "      <td>No</td>\n",
       "      <td>61575264</td>\n",
       "      <td>Male</td>\n",
       "      <td>12-Jul-95</td>\n",
       "      <td>WY</td>\n",
       "      <td>182-385-1392</td>\n",
       "      <td>Gold</td>\n",
       "    </tr>\n",
       "  </tbody>\n",
       "</table>\n",
       "<p>1085 rows × 16 columns</p>\n",
       "</div>"
      ],
      "text/plain": [
       "      claim_id  customer_id      incident_cause  claim_date claim_area  \\\n",
       "0     54004764     21868593        Driver error  11/27/2017       Auto   \n",
       "1     33985796     75740424               Crime  10/03/2018       Home   \n",
       "2     53522022     30308357  Other driver error  02/02/2018       Auto   \n",
       "3     63017412     30308357        Driver error  04/04/2018       Auto   \n",
       "4     13015401     47830476      Natural causes  06/17/2018       Auto   \n",
       "...        ...          ...                 ...         ...        ...   \n",
       "1080  62020796     79539873  Other driver error  09/06/2018       Auto   \n",
       "1081  63269067     42364152        Other causes  05/09/2017       Home   \n",
       "1082  22690595     19888166  Other driver error  05/15/2017       Auto   \n",
       "1083  12376894     11256802  Other driver error  04/18/2017       Auto   \n",
       "1084  63226031     61575264      Natural causes  03/16/2017       Auto   \n",
       "\n",
       "     police_report     claim_type claim_amount  total_policy_claims  \\\n",
       "0               No  Material only        $2980                  1.0   \n",
       "1          Unknown  Material only        $2980                  3.0   \n",
       "2               No  Material only      $3369.5                  1.0   \n",
       "3               No  Material only        $1950                  6.0   \n",
       "4               No  Material only        $1680                  1.0   \n",
       "...            ...            ...          ...                  ...   \n",
       "1080           Yes  Material only        $1770                  1.0   \n",
       "1081            No  Material only        $2800                  1.0   \n",
       "1082           Yes    Injury only       $33080                  2.0   \n",
       "1083            No  Material only        $2840                  4.0   \n",
       "1084            No  Material only        $1490                  1.0   \n",
       "\n",
       "     fraudulent   CUST_ID  gender DateOfBirth State       Contact   Segment  \n",
       "0            No  21868593  Female   12-Jan-79    VT  789-916-8172  Platinum  \n",
       "1            No  75740424  Female   13-Jan-70    ME  265-543-1264    Silver  \n",
       "2           Yes  30308357  Female   11-Mar-84    TN  798-631-4758    Silver  \n",
       "3            No  30308357  Female   11-Mar-84    TN  798-631-4758    Silver  \n",
       "4            No  47830476  Female   01-May-86    MA  413-187-7945    Silver  \n",
       "...         ...       ...     ...         ...   ...           ...       ...  \n",
       "1080         No  79539873  Female   15-Mar-81    ND  459-425-4319  Platinum  \n",
       "1081         No  42364152  Female   07-Jul-96    ID  529-462-1635    Silver  \n",
       "1082         No  19888166    Male   11-Apr-90    WI  712-651-9613      Gold  \n",
       "1083         No  11256802  Female   22-Oct-64    LA  469-345-5617    Silver  \n",
       "1084         No  61575264    Male   12-Jul-95    WY  182-385-1392      Gold  \n",
       "\n",
       "[1085 rows x 16 columns]"
      ]
     },
     "execution_count": 391,
     "metadata": {},
     "output_type": "execute_result"
    }
   ],
   "source": [
    "claim=pd.read_csv('claims.csv')\n",
    "cust=pd.read_csv('cust_demographics.csv')\n",
    "df = pd.merge(claim,cust, left_on='customer_id', right_on='CUST_ID', how='inner')\n",
    "df"
   ]
  },
  {
   "cell_type": "markdown",
   "id": "f538bbf0",
   "metadata": {},
   "source": [
    "### 2.  Perform a data audit for the datatypes and find out if there are any mismatch within the current datatypes of the columns and their business significance."
   ]
  },
  {
   "cell_type": "code",
   "execution_count": 392,
   "id": "34a4db42",
   "metadata": {},
   "outputs": [
    {
     "data": {
      "text/plain": [
       "claim_id                 int64\n",
       "customer_id              int64\n",
       "incident_cause          object\n",
       "claim_date              object\n",
       "claim_area              object\n",
       "police_report           object\n",
       "claim_type              object\n",
       "claim_amount            object\n",
       "total_policy_claims    float64\n",
       "fraudulent              object\n",
       "CUST_ID                  int64\n",
       "gender                  object\n",
       "DateOfBirth             object\n",
       "State                   object\n",
       "Contact                 object\n",
       "Segment                 object\n",
       "dtype: object"
      ]
     },
     "execution_count": 392,
     "metadata": {},
     "output_type": "execute_result"
    }
   ],
   "source": [
    "df.dtypes\n",
    "\n",
    "#result:\n",
    "  #claim_id expected as object   (reason: it makes no sense on doing arithmetic operation on claim_id)\n",
    "  #customer_id expected as object(reason: same as claim id)\n",
    "  #incident_cause expected as object\n",
    "  #claim_date expected as datetime datatype\n",
    "  #claim_area expected as object\n",
    "  #claim_amount expected as float\n",
    "  #fraudulent expected as boolean\n",
    "  #gender expected as object\n",
    "  #DateOfBirth expected as datetime datatype\n",
    "  #State expected as object\n",
    "  #Contact expected as object\n",
    "  #Segment expected as object"
   ]
  },
  {
   "cell_type": "markdown",
   "id": "fa5f11e7",
   "metadata": {},
   "source": [
    "### 3.Convert the column claim_amount to numeric. Use the appropriate modules/attributes to remove the  $ sign."
   ]
  },
  {
   "cell_type": "code",
   "execution_count": 393,
   "id": "5abf7f4a",
   "metadata": {},
   "outputs": [
    {
     "name": "stderr",
     "output_type": "stream",
     "text": [
      "C:\\Users\\Arth\\AppData\\Local\\Temp\\ipykernel_9920\\2571852817.py:1: FutureWarning: The default value of regex will change from True to False in a future version. In addition, single character regular expressions will *not* be treated as literal strings when regex=True.\n",
      "  df['claim_amount'] = df['claim_amount'].str.replace('$', '').str.replace(',', '').astype(float)\n"
     ]
    }
   ],
   "source": [
    "df['claim_amount'] = df['claim_amount'].str.replace('$', '').str.replace(',', '').astype(float)"
   ]
  },
  {
   "cell_type": "markdown",
   "id": "471342a1",
   "metadata": {},
   "source": [
    "### 4. Of all the injury claims, some of them have gone unreported with the police. Create an alert flag (1,0) for all such claims."
   ]
  },
  {
   "cell_type": "code",
   "execution_count": 394,
   "id": "0b695083",
   "metadata": {},
   "outputs": [],
   "source": [
    "#Create a new column called \"police_reported\" and initialize it with 0\n",
    "df['police_reported'] = 0\n",
    "\n",
    "#Use boolean indexing to identify injury claims with no police report\n",
    "injury_claims_no_police_report = (df['claim_type'] == 'Injury only') & (df['police_report'] == 'No')\n",
    "\n",
    "#Update the \"police_reported\" column for the identified claims to 1\n",
    "df.loc[injury_claims_no_police_report, 'police_reported'] = 1"
   ]
  },
  {
   "cell_type": "markdown",
   "id": "80f07b7a",
   "metadata": {},
   "source": [
    "### 5. One customer can claim for insurance more than once and in each claim, multiple categories of claims can be involved. However, customer ID should remain unique. Retain the most recent observation and delete any duplicated records in the data based on the customer ID column."
   ]
  },
  {
   "cell_type": "code",
   "execution_count": 395,
   "id": "d8c48c79",
   "metadata": {},
   "outputs": [
    {
     "data": {
      "text/html": [
       "<div>\n",
       "<style scoped>\n",
       "    .dataframe tbody tr th:only-of-type {\n",
       "        vertical-align: middle;\n",
       "    }\n",
       "\n",
       "    .dataframe tbody tr th {\n",
       "        vertical-align: top;\n",
       "    }\n",
       "\n",
       "    .dataframe thead th {\n",
       "        text-align: right;\n",
       "    }\n",
       "</style>\n",
       "<table border=\"1\" class=\"dataframe\">\n",
       "  <thead>\n",
       "    <tr style=\"text-align: right;\">\n",
       "      <th></th>\n",
       "      <th>claim_id</th>\n",
       "      <th>customer_id</th>\n",
       "      <th>incident_cause</th>\n",
       "      <th>claim_date</th>\n",
       "      <th>claim_area</th>\n",
       "      <th>police_report</th>\n",
       "      <th>claim_type</th>\n",
       "      <th>claim_amount</th>\n",
       "      <th>total_policy_claims</th>\n",
       "      <th>fraudulent</th>\n",
       "      <th>CUST_ID</th>\n",
       "      <th>gender</th>\n",
       "      <th>DateOfBirth</th>\n",
       "      <th>State</th>\n",
       "      <th>Contact</th>\n",
       "      <th>Segment</th>\n",
       "      <th>police_reported</th>\n",
       "    </tr>\n",
       "  </thead>\n",
       "  <tbody>\n",
       "    <tr>\n",
       "      <th>0</th>\n",
       "      <td>99775483</td>\n",
       "      <td>93915431</td>\n",
       "      <td>Other causes</td>\n",
       "      <td>2018-10-30</td>\n",
       "      <td>Auto</td>\n",
       "      <td>No</td>\n",
       "      <td>Material and injury</td>\n",
       "      <td>42124.5</td>\n",
       "      <td>1.0</td>\n",
       "      <td>Yes</td>\n",
       "      <td>93915431</td>\n",
       "      <td>Male</td>\n",
       "      <td>08-Sep-67</td>\n",
       "      <td>ME</td>\n",
       "      <td>134-785-1687</td>\n",
       "      <td>Gold</td>\n",
       "      <td>0</td>\n",
       "    </tr>\n",
       "    <tr>\n",
       "      <th>1</th>\n",
       "      <td>98795403</td>\n",
       "      <td>38011078</td>\n",
       "      <td>Crime</td>\n",
       "      <td>2018-10-30</td>\n",
       "      <td>Auto</td>\n",
       "      <td>Unknown</td>\n",
       "      <td>Material only</td>\n",
       "      <td>1940.0</td>\n",
       "      <td>1.0</td>\n",
       "      <td>No</td>\n",
       "      <td>38011078</td>\n",
       "      <td>Female</td>\n",
       "      <td>20-May-76</td>\n",
       "      <td>NE</td>\n",
       "      <td>271-123-1475</td>\n",
       "      <td>Gold</td>\n",
       "      <td>0</td>\n",
       "    </tr>\n",
       "    <tr>\n",
       "      <th>2</th>\n",
       "      <td>43042986</td>\n",
       "      <td>58451506</td>\n",
       "      <td>Natural causes</td>\n",
       "      <td>2018-10-30</td>\n",
       "      <td>Auto</td>\n",
       "      <td>No</td>\n",
       "      <td>Material only</td>\n",
       "      <td>2420.0</td>\n",
       "      <td>1.0</td>\n",
       "      <td>No</td>\n",
       "      <td>58451506</td>\n",
       "      <td>Male</td>\n",
       "      <td>22-Apr-68</td>\n",
       "      <td>FL</td>\n",
       "      <td>673-574-7823</td>\n",
       "      <td>Gold</td>\n",
       "      <td>0</td>\n",
       "    </tr>\n",
       "    <tr>\n",
       "      <th>3</th>\n",
       "      <td>74761374</td>\n",
       "      <td>46710738</td>\n",
       "      <td>Driver error</td>\n",
       "      <td>2018-10-30</td>\n",
       "      <td>Auto</td>\n",
       "      <td>No</td>\n",
       "      <td>Material only</td>\n",
       "      <td>1830.0</td>\n",
       "      <td>1.0</td>\n",
       "      <td>No</td>\n",
       "      <td>46710738</td>\n",
       "      <td>Male</td>\n",
       "      <td>28-Apr-77</td>\n",
       "      <td>MO</td>\n",
       "      <td>962-834-9361</td>\n",
       "      <td>Gold</td>\n",
       "      <td>0</td>\n",
       "    </tr>\n",
       "    <tr>\n",
       "      <th>4</th>\n",
       "      <td>87329176</td>\n",
       "      <td>77510822</td>\n",
       "      <td>Other driver error</td>\n",
       "      <td>2018-10-30</td>\n",
       "      <td>Auto</td>\n",
       "      <td>Unknown</td>\n",
       "      <td>Material only</td>\n",
       "      <td>NaN</td>\n",
       "      <td>2.0</td>\n",
       "      <td>No</td>\n",
       "      <td>77510822</td>\n",
       "      <td>Female</td>\n",
       "      <td>18-Mar-86</td>\n",
       "      <td>AK</td>\n",
       "      <td>436-934-7156</td>\n",
       "      <td>Silver</td>\n",
       "      <td>0</td>\n",
       "    </tr>\n",
       "    <tr>\n",
       "      <th>...</th>\n",
       "      <td>...</td>\n",
       "      <td>...</td>\n",
       "      <td>...</td>\n",
       "      <td>...</td>\n",
       "      <td>...</td>\n",
       "      <td>...</td>\n",
       "      <td>...</td>\n",
       "      <td>...</td>\n",
       "      <td>...</td>\n",
       "      <td>...</td>\n",
       "      <td>...</td>\n",
       "      <td>...</td>\n",
       "      <td>...</td>\n",
       "      <td>...</td>\n",
       "      <td>...</td>\n",
       "      <td>...</td>\n",
       "      <td>...</td>\n",
       "    </tr>\n",
       "    <tr>\n",
       "      <th>1073</th>\n",
       "      <td>61374372</td>\n",
       "      <td>77219712</td>\n",
       "      <td>Other causes</td>\n",
       "      <td>2017-01-01</td>\n",
       "      <td>Auto</td>\n",
       "      <td>No</td>\n",
       "      <td>Material and injury</td>\n",
       "      <td>20200.0</td>\n",
       "      <td>1.0</td>\n",
       "      <td>No</td>\n",
       "      <td>77219712</td>\n",
       "      <td>Female</td>\n",
       "      <td>05-Aug-99</td>\n",
       "      <td>NH</td>\n",
       "      <td>649-592-8793</td>\n",
       "      <td>Platinum</td>\n",
       "      <td>0</td>\n",
       "    </tr>\n",
       "    <tr>\n",
       "      <th>1074</th>\n",
       "      <td>42280334</td>\n",
       "      <td>42664554</td>\n",
       "      <td>Other causes</td>\n",
       "      <td>2017-01-01</td>\n",
       "      <td>Auto</td>\n",
       "      <td>No</td>\n",
       "      <td>Injury only</td>\n",
       "      <td>27670.0</td>\n",
       "      <td>1.0</td>\n",
       "      <td>No</td>\n",
       "      <td>42664554</td>\n",
       "      <td>Female</td>\n",
       "      <td>13-Aug-93</td>\n",
       "      <td>TN</td>\n",
       "      <td>396-973-2531</td>\n",
       "      <td>Gold</td>\n",
       "      <td>1</td>\n",
       "    </tr>\n",
       "    <tr>\n",
       "      <th>1075</th>\n",
       "      <td>23636125</td>\n",
       "      <td>64840478</td>\n",
       "      <td>Other driver error</td>\n",
       "      <td>2017-01-01</td>\n",
       "      <td>Auto</td>\n",
       "      <td>Unknown</td>\n",
       "      <td>Material and injury</td>\n",
       "      <td>17290.0</td>\n",
       "      <td>1.0</td>\n",
       "      <td>No</td>\n",
       "      <td>64840478</td>\n",
       "      <td>Female</td>\n",
       "      <td>14-Feb-74</td>\n",
       "      <td>NM</td>\n",
       "      <td>918-174-7461</td>\n",
       "      <td>Silver</td>\n",
       "      <td>0</td>\n",
       "    </tr>\n",
       "    <tr>\n",
       "      <th>1076</th>\n",
       "      <td>25647821</td>\n",
       "      <td>74155265</td>\n",
       "      <td>Natural causes</td>\n",
       "      <td>2017-01-01</td>\n",
       "      <td>Auto</td>\n",
       "      <td>No</td>\n",
       "      <td>Material only</td>\n",
       "      <td>2080.0</td>\n",
       "      <td>1.0</td>\n",
       "      <td>No</td>\n",
       "      <td>74155265</td>\n",
       "      <td>Male</td>\n",
       "      <td>16-Nov-85</td>\n",
       "      <td>TX</td>\n",
       "      <td>392-739-4873</td>\n",
       "      <td>Gold</td>\n",
       "      <td>0</td>\n",
       "    </tr>\n",
       "    <tr>\n",
       "      <th>1077</th>\n",
       "      <td>90591192</td>\n",
       "      <td>61745840</td>\n",
       "      <td>Other driver error</td>\n",
       "      <td>2017-01-01</td>\n",
       "      <td>Home</td>\n",
       "      <td>No</td>\n",
       "      <td>Material and injury</td>\n",
       "      <td>30930.0</td>\n",
       "      <td>1.0</td>\n",
       "      <td>No</td>\n",
       "      <td>61745840</td>\n",
       "      <td>Female</td>\n",
       "      <td>24-Jul-94</td>\n",
       "      <td>MA</td>\n",
       "      <td>612-684-5472</td>\n",
       "      <td>Platinum</td>\n",
       "      <td>0</td>\n",
       "    </tr>\n",
       "  </tbody>\n",
       "</table>\n",
       "<p>1078 rows × 17 columns</p>\n",
       "</div>"
      ],
      "text/plain": [
       "      claim_id  customer_id      incident_cause claim_date claim_area  \\\n",
       "0     99775483     93915431        Other causes 2018-10-30       Auto   \n",
       "1     98795403     38011078               Crime 2018-10-30       Auto   \n",
       "2     43042986     58451506      Natural causes 2018-10-30       Auto   \n",
       "3     74761374     46710738        Driver error 2018-10-30       Auto   \n",
       "4     87329176     77510822  Other driver error 2018-10-30       Auto   \n",
       "...        ...          ...                 ...        ...        ...   \n",
       "1073  61374372     77219712        Other causes 2017-01-01       Auto   \n",
       "1074  42280334     42664554        Other causes 2017-01-01       Auto   \n",
       "1075  23636125     64840478  Other driver error 2017-01-01       Auto   \n",
       "1076  25647821     74155265      Natural causes 2017-01-01       Auto   \n",
       "1077  90591192     61745840  Other driver error 2017-01-01       Home   \n",
       "\n",
       "     police_report           claim_type  claim_amount  total_policy_claims  \\\n",
       "0               No  Material and injury       42124.5                  1.0   \n",
       "1          Unknown        Material only        1940.0                  1.0   \n",
       "2               No        Material only        2420.0                  1.0   \n",
       "3               No        Material only        1830.0                  1.0   \n",
       "4          Unknown        Material only           NaN                  2.0   \n",
       "...            ...                  ...           ...                  ...   \n",
       "1073            No  Material and injury       20200.0                  1.0   \n",
       "1074            No          Injury only       27670.0                  1.0   \n",
       "1075       Unknown  Material and injury       17290.0                  1.0   \n",
       "1076            No        Material only        2080.0                  1.0   \n",
       "1077            No  Material and injury       30930.0                  1.0   \n",
       "\n",
       "     fraudulent   CUST_ID  gender DateOfBirth State       Contact   Segment  \\\n",
       "0           Yes  93915431    Male   08-Sep-67    ME  134-785-1687      Gold   \n",
       "1            No  38011078  Female   20-May-76    NE  271-123-1475      Gold   \n",
       "2            No  58451506    Male   22-Apr-68    FL  673-574-7823      Gold   \n",
       "3            No  46710738    Male   28-Apr-77    MO  962-834-9361      Gold   \n",
       "4            No  77510822  Female   18-Mar-86    AK  436-934-7156    Silver   \n",
       "...         ...       ...     ...         ...   ...           ...       ...   \n",
       "1073         No  77219712  Female   05-Aug-99    NH  649-592-8793  Platinum   \n",
       "1074         No  42664554  Female   13-Aug-93    TN  396-973-2531      Gold   \n",
       "1075         No  64840478  Female   14-Feb-74    NM  918-174-7461    Silver   \n",
       "1076         No  74155265    Male   16-Nov-85    TX  392-739-4873      Gold   \n",
       "1077         No  61745840  Female   24-Jul-94    MA  612-684-5472  Platinum   \n",
       "\n",
       "      police_reported  \n",
       "0                   0  \n",
       "1                   0  \n",
       "2                   0  \n",
       "3                   0  \n",
       "4                   0  \n",
       "...               ...  \n",
       "1073                0  \n",
       "1074                1  \n",
       "1075                0  \n",
       "1076                0  \n",
       "1077                0  \n",
       "\n",
       "[1078 rows x 17 columns]"
      ]
     },
     "execution_count": 395,
     "metadata": {},
     "output_type": "execute_result"
    }
   ],
   "source": [
    "df['claim_date'] = pd.to_datetime(df['claim_date'])\n",
    "\n",
    "df.sort_values(by='claim_date', ascending=False, inplace=True)\n",
    "\n",
    "df.drop_duplicates(subset='customer_id', keep='first', inplace=True)\n",
    "\n",
    "df.reset_index(drop=True, inplace=True)\n",
    "\n",
    "df\n"
   ]
  },
  {
   "cell_type": "markdown",
   "id": "0a3959a6",
   "metadata": {},
   "source": [
    "### 6. Check for missing values and impute the missing values with an appropriate value. (mean for continuous and mode for categorical)"
   ]
  },
  {
   "cell_type": "code",
   "execution_count": 396,
   "id": "bb98de35",
   "metadata": {},
   "outputs": [
    {
     "data": {
      "text/plain": [
       "claim_id                0\n",
       "customer_id             0\n",
       "incident_cause          0\n",
       "claim_date              0\n",
       "claim_area              0\n",
       "police_report           0\n",
       "claim_type              0\n",
       "claim_amount           65\n",
       "total_policy_claims    10\n",
       "fraudulent              0\n",
       "CUST_ID                 0\n",
       "gender                  0\n",
       "DateOfBirth             0\n",
       "State                   0\n",
       "Contact                 0\n",
       "Segment                 0\n",
       "police_reported         0\n",
       "dtype: int64"
      ]
     },
     "execution_count": 396,
     "metadata": {},
     "output_type": "execute_result"
    }
   ],
   "source": [
    "df.isna().sum()"
   ]
  },
  {
   "cell_type": "code",
   "execution_count": 397,
   "id": "b8647090",
   "metadata": {},
   "outputs": [
    {
     "data": {
      "text/html": [
       "<div>\n",
       "<style scoped>\n",
       "    .dataframe tbody tr th:only-of-type {\n",
       "        vertical-align: middle;\n",
       "    }\n",
       "\n",
       "    .dataframe tbody tr th {\n",
       "        vertical-align: top;\n",
       "    }\n",
       "\n",
       "    .dataframe thead th {\n",
       "        text-align: right;\n",
       "    }\n",
       "</style>\n",
       "<table border=\"1\" class=\"dataframe\">\n",
       "  <thead>\n",
       "    <tr style=\"text-align: right;\">\n",
       "      <th></th>\n",
       "      <th>count</th>\n",
       "      <th>mean</th>\n",
       "      <th>std</th>\n",
       "      <th>min</th>\n",
       "      <th>25%</th>\n",
       "      <th>50%</th>\n",
       "      <th>75%</th>\n",
       "      <th>max</th>\n",
       "    </tr>\n",
       "  </thead>\n",
       "  <tbody>\n",
       "    <tr>\n",
       "      <th>claim_id</th>\n",
       "      <td>1078.0</td>\n",
       "      <td>4.900244e+07</td>\n",
       "      <td>2.912276e+07</td>\n",
       "      <td>26832.0</td>\n",
       "      <td>24092362.0</td>\n",
       "      <td>49034923.0</td>\n",
       "      <td>74135404.00</td>\n",
       "      <td>99775483.0</td>\n",
       "    </tr>\n",
       "    <tr>\n",
       "      <th>customer_id</th>\n",
       "      <td>1078.0</td>\n",
       "      <td>5.078005e+07</td>\n",
       "      <td>2.851431e+07</td>\n",
       "      <td>154557.0</td>\n",
       "      <td>26460249.5</td>\n",
       "      <td>49790067.0</td>\n",
       "      <td>76069233.75</td>\n",
       "      <td>99961993.0</td>\n",
       "    </tr>\n",
       "    <tr>\n",
       "      <th>claim_amount</th>\n",
       "      <td>1013.0</td>\n",
       "      <td>1.250173e+04</td>\n",
       "      <td>1.378513e+04</td>\n",
       "      <td>1000.0</td>\n",
       "      <td>1870.0</td>\n",
       "      <td>2740.0</td>\n",
       "      <td>24380.00</td>\n",
       "      <td>48150.5</td>\n",
       "    </tr>\n",
       "    <tr>\n",
       "      <th>total_policy_claims</th>\n",
       "      <td>1068.0</td>\n",
       "      <td>1.588951e+00</td>\n",
       "      <td>1.148957e+00</td>\n",
       "      <td>1.0</td>\n",
       "      <td>1.0</td>\n",
       "      <td>1.0</td>\n",
       "      <td>2.00</td>\n",
       "      <td>8.0</td>\n",
       "    </tr>\n",
       "    <tr>\n",
       "      <th>CUST_ID</th>\n",
       "      <td>1078.0</td>\n",
       "      <td>5.078005e+07</td>\n",
       "      <td>2.851431e+07</td>\n",
       "      <td>154557.0</td>\n",
       "      <td>26460249.5</td>\n",
       "      <td>49790067.0</td>\n",
       "      <td>76069233.75</td>\n",
       "      <td>99961993.0</td>\n",
       "    </tr>\n",
       "    <tr>\n",
       "      <th>police_reported</th>\n",
       "      <td>1078.0</td>\n",
       "      <td>5.473098e-02</td>\n",
       "      <td>2.275600e-01</td>\n",
       "      <td>0.0</td>\n",
       "      <td>0.0</td>\n",
       "      <td>0.0</td>\n",
       "      <td>0.00</td>\n",
       "      <td>1.0</td>\n",
       "    </tr>\n",
       "  </tbody>\n",
       "</table>\n",
       "</div>"
      ],
      "text/plain": [
       "                      count          mean           std       min         25%  \\\n",
       "claim_id             1078.0  4.900244e+07  2.912276e+07   26832.0  24092362.0   \n",
       "customer_id          1078.0  5.078005e+07  2.851431e+07  154557.0  26460249.5   \n",
       "claim_amount         1013.0  1.250173e+04  1.378513e+04    1000.0      1870.0   \n",
       "total_policy_claims  1068.0  1.588951e+00  1.148957e+00       1.0         1.0   \n",
       "CUST_ID              1078.0  5.078005e+07  2.851431e+07  154557.0  26460249.5   \n",
       "police_reported      1078.0  5.473098e-02  2.275600e-01       0.0         0.0   \n",
       "\n",
       "                            50%          75%         max  \n",
       "claim_id             49034923.0  74135404.00  99775483.0  \n",
       "customer_id          49790067.0  76069233.75  99961993.0  \n",
       "claim_amount             2740.0     24380.00     48150.5  \n",
       "total_policy_claims         1.0         2.00         8.0  \n",
       "CUST_ID              49790067.0  76069233.75  99961993.0  \n",
       "police_reported             0.0         0.00         1.0  "
      ]
     },
     "execution_count": 397,
     "metadata": {},
     "output_type": "execute_result"
    }
   ],
   "source": [
    "df.describe().T"
   ]
  },
  {
   "cell_type": "code",
   "execution_count": 398,
   "id": "2012ddc2",
   "metadata": {},
   "outputs": [],
   "source": [
    "df['claim_amount'].fillna(df['claim_amount'].mean(), inplace=True)\n",
    "df['total_policy_claims'].fillna(df['total_policy_claims'].mode()[0], inplace=True)"
   ]
  },
  {
   "cell_type": "markdown",
   "id": "bb148824",
   "metadata": {},
   "source": [
    "### 7. Calculate the age of customers in years. Based on the age, categorize the customers according to the below criteria\n",
    "#### Children < 18\n",
    "#### Youth 18-30\n",
    "#### Adult 30-60\n",
    "#### Senior > 60"
   ]
  },
  {
   "cell_type": "code",
   "execution_count": 399,
   "id": "712dc35a",
   "metadata": {},
   "outputs": [],
   "source": [
    "df['DateOfBirth']=pd.to_datetime(df['DateOfBirth'], format='%d-%b-%y')\n",
    "import datetime\n",
    "current_date = datetime.date.today()\n",
    "\n",
    "#to fix year since some years are like 2068 or something\n",
    "def fix_year(date):\n",
    "    if date.year > 2000:\n",
    "        return date.replace(year=date.year - 100)\n",
    "    else:\n",
    "        return date\n",
    "df['DateOfBirth'] = df['DateOfBirth'].apply(fix_year)\n",
    "\n",
    "df['Age'] = current_date.year - df['DateOfBirth'].dt.year\n",
    "\n",
    "\n",
    "#age category\n",
    "def categorize_age(age):\n",
    "    if age < 18:\n",
    "        return 'Children'\n",
    "    elif age >= 18 and age <= 30:\n",
    "        return 'Youth'\n",
    "    elif age > 30 and age <= 60:\n",
    "        return 'Adult'\n",
    "    else:\n",
    "        return 'Senior'\n",
    "\n",
    "df['Age Category'] = df['Age'].apply(categorize_age)"
   ]
  },
  {
   "cell_type": "markdown",
   "id": "9e8315d3",
   "metadata": {},
   "source": [
    "### 8.What is the average amount claimed by the customers from various segments?"
   ]
  },
  {
   "cell_type": "code",
   "execution_count": 400,
   "id": "ea107221",
   "metadata": {},
   "outputs": [
    {
     "data": {
      "text/html": [
       "<div>\n",
       "<style scoped>\n",
       "    .dataframe tbody tr th:only-of-type {\n",
       "        vertical-align: middle;\n",
       "    }\n",
       "\n",
       "    .dataframe tbody tr th {\n",
       "        vertical-align: top;\n",
       "    }\n",
       "\n",
       "    .dataframe thead th {\n",
       "        text-align: right;\n",
       "    }\n",
       "</style>\n",
       "<table border=\"1\" class=\"dataframe\">\n",
       "  <thead>\n",
       "    <tr style=\"text-align: right;\">\n",
       "      <th></th>\n",
       "      <th>claim_amount</th>\n",
       "    </tr>\n",
       "    <tr>\n",
       "      <th>Segment</th>\n",
       "      <th></th>\n",
       "    </tr>\n",
       "  </thead>\n",
       "  <tbody>\n",
       "    <tr>\n",
       "      <th>Gold</th>\n",
       "      <td>12846.400227</td>\n",
       "    </tr>\n",
       "    <tr>\n",
       "      <th>Platinum</th>\n",
       "      <td>12371.654843</td>\n",
       "    </tr>\n",
       "    <tr>\n",
       "      <th>Silver</th>\n",
       "      <td>12267.859374</td>\n",
       "    </tr>\n",
       "  </tbody>\n",
       "</table>\n",
       "</div>"
      ],
      "text/plain": [
       "          claim_amount\n",
       "Segment               \n",
       "Gold      12846.400227\n",
       "Platinum  12371.654843\n",
       "Silver    12267.859374"
      ]
     },
     "execution_count": 400,
     "metadata": {},
     "output_type": "execute_result"
    }
   ],
   "source": [
    "pd.pivot_table(data=df, values='claim_amount', index='Segment', aggfunc='mean')"
   ]
  },
  {
   "cell_type": "markdown",
   "id": "1b2be3bb",
   "metadata": {},
   "source": [
    "### 9. What is the total claim amount based on incident cause for all the claims that have been done at least 20 days prior to 1st of October, 2018."
   ]
  },
  {
   "cell_type": "code",
   "execution_count": 401,
   "id": "fc4c58e6",
   "metadata": {},
   "outputs": [
    {
     "data": {
      "text/plain": [
       "incident_cause\n",
       "Crime                 7.219386e+05\n",
       "Driver error          3.315851e+06\n",
       "Natural causes        1.312987e+06\n",
       "Other causes          3.723152e+06\n",
       "Other driver error    3.277536e+06\n",
       "Name: claim_amount, dtype: float64"
      ]
     },
     "execution_count": 401,
     "metadata": {},
     "output_type": "execute_result"
    }
   ],
   "source": [
    "from datetime import datetime\n",
    "\n",
    "df['claim_date'] = pd.to_datetime(df['claim_date'], format='%m/%d/%Y')\n",
    "\n",
    "threshold_date = datetime(2018, 10, 1) - pd.DateOffset(days=20)\n",
    "\n",
    "filtered_df = df[df['claim_date'] <= threshold_date]\n",
    "total_claim_amount_by_cause = filtered_df.groupby('incident_cause')['claim_amount'].sum()\n",
    "\n",
    "total_claim_amount_by_cause"
   ]
  },
  {
   "cell_type": "markdown",
   "id": "9b04fa3c",
   "metadata": {},
   "source": [
    "### 10. How many adults from TX, DE and AK claimed insurance for driver related issues and causes?"
   ]
  },
  {
   "cell_type": "code",
   "execution_count": 402,
   "id": "c0204b1f",
   "metadata": {},
   "outputs": [
    {
     "data": {
      "text/plain": [
       "27"
      ]
     },
     "execution_count": 402,
     "metadata": {},
     "output_type": "execute_result"
    }
   ],
   "source": [
    "df2 = df[(df['Age Category'] == 'Adult') & ((df['State'] == 'TX') | (df['State'] == 'DE') | (df['State'] == 'AK'))]\n",
    "df3=df2[(df2['incident_cause']=='Other driver error') | (df2['incident_cause']=='Driver error')]\n",
    "len(df3)"
   ]
  },
  {
   "cell_type": "markdown",
   "id": "9d70990f",
   "metadata": {},
   "source": [
    "### 11. Draw a pie chart between the aggregated value of claim amount based on gender and segment. Represent the claim amount as a percentage on the pie chart."
   ]
  },
  {
   "cell_type": "code",
   "execution_count": 403,
   "id": "723c8ba0",
   "metadata": {},
   "outputs": [
    {
     "data": {
      "image/png": "[encoded data removed]",
      "text/plain": [
       "<Figure size 640x480 with 1 Axes>"
      ]
     },
     "metadata": {},
     "output_type": "display_data"
    }
   ],
   "source": [
    "agg_d = df.groupby(['gender', 'Segment'])['claim_amount'].sum()\n",
    "\n",
    "agg_d.plot(kind='pie', autopct='%1.1f%%', legend=False)\n",
    "\n",
    "\n",
    "plt.title(\"Aggregated Claim Amount by Gender and Segment\")\n",
    "\n",
    "plt.show()"
   ]
  },
  {
   "cell_type": "markdown",
   "id": "64d8b114",
   "metadata": {},
   "source": [
    "### 12. Among males and females, which gender had claimed the most for any type of driver related issues? E.g. This metric can be compared using a bar chart"
   ]
  },
  {
   "cell_type": "code",
   "execution_count": 404,
   "id": "0819db2b",
   "metadata": {},
   "outputs": [
    {
     "data": {
      "image/png": "[encoded data removed]",
      "text/plain": [
       "<Figure size 640x480 with 1 Axes>"
      ]
     },
     "metadata": {},
     "output_type": "display_data"
    }
   ],
   "source": [
    "df4=df[(df['incident_cause']=='Other driver error') | (df['incident_cause']=='Driver error')]\n",
    "df5 = df4['gender'].value_counts()\n",
    "df5.plot(kind='bar')\n",
    "plt.title(\"Number of Claims for Driver-Related Issues by Gender\")\n",
    "plt.xlabel(\"Gender\")\n",
    "plt.ylabel(\"Number of Claims\")\n",
    "plt.show()"
   ]
  },
  {
   "cell_type": "markdown",
   "id": "1729f1dc",
   "metadata": {},
   "source": [
    "### 13. Which age group had the maximum fraudulent policy claims? Visualize it on a bar chart."
   ]
  },
  {
   "cell_type": "code",
   "execution_count": 405,
   "id": "e333c606",
   "metadata": {},
   "outputs": [
    {
     "data": {
      "image/png": "[encoded data removed]",
      "text/plain": [
       "<Figure size 640x480 with 1 Axes>"
      ]
     },
     "metadata": {},
     "output_type": "display_data"
    }
   ],
   "source": [
    "df7=df[df['fraudulent']=='Yes']\n",
    "df8 = df7['Age Category'].value_counts()\n",
    "df8.plot(kind='bar')\n",
    "plt.title(\"Number of fraud Claims by Age category\")\n",
    "plt.xlabel(\"Age group\")\n",
    "plt.ylabel(\"Number of fraud Claims\")\n",
    "plt.xticks(rotation=0)\n",
    "plt.show()"
   ]
  },
  {
   "cell_type": "markdown",
   "id": "c46c3d09",
   "metadata": {},
   "source": [
    "### 14. Visualize the monthly trend of the total amount that has been claimed by the customers. Ensure that on the “month” axis, the month is in a chronological order not alphabetical order."
   ]
  },
  {
   "cell_type": "code",
   "execution_count": 406,
   "id": "7e0cfed5",
   "metadata": {},
   "outputs": [
    {
     "data": {
      "image/png": "[encoded data removed]",
      "text/plain": [
       "<Figure size 640x480 with 1 Axes>"
      ]
     },
     "metadata": {},
     "output_type": "display_data"
    }
   ],
   "source": [
    "df10=df.groupby(df['claim_date'].dt.month)['claim_amount'].sum()\n",
    "df10.plot(kind='bar')\n",
    "plt.title(\"Monthly Trend of Total Claim Amount\")\n",
    "plt.xlabel(\"Month\")\n",
    "plt.ylabel(\"Total Claim Amount\")\n",
    "plt.xticks(rotation=0)\n",
    "plt.show()"
   ]
  },
  {
   "cell_type": "markdown",
   "id": "d4c66280",
   "metadata": {},
   "source": [
    "### 15. What is the average claim amount for gender and age categories and suitably represent the above using a facetted bar chart, one facet that represents fraudulent claims and the other for non-fraudulent claims."
   ]
  },
  {
   "cell_type": "code",
   "execution_count": 407,
   "id": "38b044a0",
   "metadata": {},
   "outputs": [
    {
     "data": {
      "image/png": "[encoded data removed]",
      "text/plain": [
       "<Figure size 640x480 with 1 Axes>"
      ]
     },
     "metadata": {},
     "output_type": "display_data"
    },
    {
     "data": {
      "image/png": "[encoded data removed]",
      "text/plain": [
       "<Figure size 640x480 with 1 Axes>"
      ]
     },
     "metadata": {},
     "output_type": "display_data"
    }
   ],
   "source": [
    "fraud=df[df['fraudulent'] == 'Yes']\n",
    "avg_fraud=pd.pivot_table(data=fraud,values='claim_amount',index='gender',columns='Age Category',aggfunc='mean')\n",
    "avg_fraud.plot(kind='bar')\n",
    "plt.title(\"Average Claim Amount for Fraudulent Claims\")\n",
    "plt.xlabel(\"Gender\")\n",
    "plt.ylabel(\"Average Claim Amount\")\n",
    "plt.xticks(rotation=0)\n",
    "plt.show()\n",
    "\n",
    "\n",
    "non_fraud=df[df['fraudulent'] == 'No']\n",
    "avg_non_fraud=pd.pivot_table(data=non_fraud,values='claim_amount',index='gender',columns='Age Category',aggfunc='mean')\n",
    "avg_non_fraud.plot(kind='bar')\n",
    "plt.title(\"Average Claim Amount for  non Fraudulent Claims\")\n",
    "plt.xlabel(\"Gender\")\n",
    "plt.ylabel(\"Average Claim Amount\")\n",
    "plt.xticks(rotation=0)\n",
    "plt.show()"
   ]
  },
  {
   "cell_type": "markdown",
   "id": "7db2ecbb",
   "metadata": {},
   "source": [
    "# Hypothesis Testing"
   ]
  },
  {
   "cell_type": "markdown",
   "id": "3f82b42d",
   "metadata": {},
   "source": [
    "### 16. Is there any similarity in the amount claimed by males and females?"
   ]
  },
  {
   "cell_type": "code",
   "execution_count": 408,
   "id": "f9e68b79",
   "metadata": {
    "scrolled": true
   },
   "outputs": [
    {
     "data": {
      "text/plain": [
       "F_onewayResult(statistic=0.9264242385640077, pvalue=0.3360100613538194)"
      ]
     },
     "execution_count": 408,
     "metadata": {},
     "output_type": "execute_result"
    }
   ],
   "source": [
    "#test usage: anova (since male and female are coming from different sets)\n",
    "    #H0: avg_male_Claim=avg_female_claim\n",
    "    #H1: avg_male_Claim≠avg_female_claim\n",
    "males_claim_amount = df[df['gender'] == 'Male']['claim_amount']\n",
    "females_claim_amount = df[df['gender'] == 'Female']['claim_amount']\n",
    "\n",
    "stats.f_oneway(males_claim_amount, females_claim_amount)\n",
    "\n",
    "#result \n",
    "  #assume alpha=0.01\n",
    "   # since pvalue>alpha\n",
    "   # =>we cannot reject null hypothesis \n",
    "   # so There is no significant difference in claim amounts between males and females"
   ]
  },
  {
   "cell_type": "markdown",
   "id": "ac6bca87",
   "metadata": {},
   "source": [
    "### 17. Is there any relationship between age category and segment?"
   ]
  },
  {
   "cell_type": "code",
   "execution_count": 409,
   "id": "64288d43",
   "metadata": {},
   "outputs": [
    {
     "data": {
      "text/plain": [
       "0.9555179463691874"
      ]
     },
     "execution_count": 409,
     "metadata": {},
     "output_type": "execute_result"
    }
   ],
   "source": [
    "#for two categorical variables use chi-square test\n",
    "    #H0: There is no relationship between age category and segment.\n",
    "    #H1: There is relationship between age category and segment.\n",
    "obs_frq = pd.crosstab(df['Age Category'], df['Segment'])\n",
    "statist,pval,d,f=stats.chi2_contingency(obs_frq)\n",
    "\n",
    "pval\n",
    "\n",
    "#result \n",
    "  #assume alpha=0.01\n",
    "   # since pvalue>alpha\n",
    "   # =>we cannot reject null hypothesis\n",
    "   # so yes There is no relationship between age category and segment."
   ]
  },
  {
   "cell_type": "markdown",
   "id": "30b80140",
   "metadata": {},
   "source": [
    "### 18. The current year has shown a significant rise in claim amounts as compared to 2016-17 fiscal average which was $10,000."
   ]
  },
  {
   "cell_type": "code",
   "execution_count": 410,
   "id": "3b41c25e",
   "metadata": {},
   "outputs": [
    {
     "data": {
      "text/plain": [
       "TtestResult(statistic=6.146897188063236, pvalue=1.1110879097327439e-09, df=1077)"
      ]
     },
     "execution_count": 410,
     "metadata": {},
     "output_type": "execute_result"
    }
   ],
   "source": [
    "#test usage: 1 sample t test (since we need to compare whether current claim amount>10000 or not)\n",
    " #H0: current year claim=10000$\n",
    " #H1: current year claim>10000$\n",
    "stats.ttest_1samp(a=df['claim_amount'],popmean=10000)\n",
    "\n",
    "#result \n",
    "  #assume alpha=0.01\n",
    "   # since pvalue<alpha\n",
    "     # => reject null hypothesis\n",
    "            #The test suggests that the current year has shown a significant rise in claim amounts \n",
    "            #compared to the 2016-17 fiscal year average of $10,000."
   ]
  },
  {
   "cell_type": "markdown",
   "id": "826987a5",
   "metadata": {},
   "source": [
    "### 19. Is there any difference between age groups and insurance claims?"
   ]
  },
  {
   "cell_type": "code",
   "execution_count": 411,
   "id": "f7a97ddb",
   "metadata": {},
   "outputs": [
    {
     "data": {
      "text/plain": [
       "array(['Adult', 'Youth', 'Senior'], dtype=object)"
      ]
     },
     "execution_count": 411,
     "metadata": {},
     "output_type": "execute_result"
    }
   ],
   "source": [
    "df['Age Category'].unique()"
   ]
  },
  {
   "cell_type": "code",
   "execution_count": 412,
   "id": "8c89207c",
   "metadata": {
    "scrolled": true
   },
   "outputs": [
    {
     "data": {
      "text/plain": [
       "F_onewayResult(statistic=0.3364389980428646, pvalue=0.7143846417070969)"
      ]
     },
     "execution_count": 412,
     "metadata": {},
     "output_type": "execute_result"
    }
   ],
   "source": [
    "#test usage: anova \n",
    "    #H0: avg_adult_Claim=avg_youth_claim=avg_senior_claim\n",
    "    #H1: not all equal\n",
    "\n",
    "df_adult=df[df['Age Category']=='Adult']['claim_amount']\n",
    "df_youth=df[df['Age Category']=='Youth']['claim_amount']\n",
    "df_senior=df[df['Age Category']=='Senior']['claim_amount']\n",
    "\n",
    "stats.f_oneway(df_adult,df_youth,df_senior)\n",
    "\n",
    "#result \n",
    "  #assume alpha=0.01\n",
    "   # since pvalue>alpha\n",
    "   # =>we cannot reject null hypothesis \n",
    "   # so There is no significant difference in claim amounts among different age groups"
   ]
  },
  {
   "cell_type": "markdown",
   "id": "b3da7ae4",
   "metadata": {},
   "source": [
    "### 20. Is there any relationship between total number of policy claims and the claimed amount?"
   ]
  },
  {
   "cell_type": "code",
   "execution_count": 413,
   "id": "4fd28c8e",
   "metadata": {},
   "outputs": [],
   "source": [
    "df['total_policy_claims'] = df['total_policy_claims'].astype(int)"
   ]
  },
  {
   "cell_type": "code",
   "execution_count": 414,
   "id": "adce1bd0",
   "metadata": {},
   "outputs": [
    {
     "data": {
      "text/plain": [
       "array([1, 2, 3, 4, 6, 5, 8, 7])"
      ]
     },
     "execution_count": 414,
     "metadata": {},
     "output_type": "execute_result"
    }
   ],
   "source": [
    "# to know different number of total policy claims\n",
    "df['total_policy_claims'].unique() "
   ]
  },
  {
   "cell_type": "code",
   "execution_count": 415,
   "id": "fa96ffbe",
   "metadata": {},
   "outputs": [
    {
     "data": {
      "text/plain": [
       "F_onewayResult(statistic=0.8983136268048669, pvalue=0.49529283846993366)"
      ]
     },
     "execution_count": 415,
     "metadata": {},
     "output_type": "execute_result"
    }
   ],
   "source": [
    "#test usage : ANOVA \n",
    "    #H0: The average claim amounts are equal across all different total numbers of policy claims.\n",
    "    #H1: Not all the averages are equal; there is at least one group with a different mean.\n",
    "\n",
    "df_1=df[df['total_policy_claims']==1]['claim_amount']\n",
    "df_2=df[df['total_policy_claims']==2]['claim_amount']\n",
    "df_3=df[df['total_policy_claims']==3]['claim_amount']\n",
    "df_4=df[df['total_policy_claims']==4]['claim_amount']\n",
    "df_5=df[df['total_policy_claims']==5]['claim_amount']\n",
    "df_6=df[df['total_policy_claims']==6]['claim_amount']\n",
    "df_7=df[df['total_policy_claims']==7]['claim_amount']\n",
    "\n",
    "stats.f_oneway(df_1,df_2,df_3,df_4,df_5,df_6,df_7)\n",
    "\n",
    "#result \n",
    "  #assume alpha=0.01\n",
    "   # since pvalue>alpha\n",
    "   # =>we cannot reject null hypothesis\n",
    "    #so There is no significant difference in claim amounts across all different total numbers of policy claims."
   ]
  },
  {
   "cell_type": "code",
   "execution_count": null,
   "id": "043e8e81",
   "metadata": {},
   "outputs": [],
   "source": []
  }
 ],
 "metadata": {
  "kernelspec": {
   "display_name": "Python 3 (ipykernel)",
   "language": "python",
   "name": "python3"
  },
  "language_info": {
   "codemirror_mode": {
    "name": "ipython",
    "version": 3
   },
   "file_extension": ".py",
   "mimetype": "text/x-python",
   "name": "python",
   "nbconvert_exporter": "python",
   "pygments_lexer": "ipython3",
   "version": "3.11.3"
  }
 },
 "nbformat": 4,
 "nbformat_minor": 5
}
